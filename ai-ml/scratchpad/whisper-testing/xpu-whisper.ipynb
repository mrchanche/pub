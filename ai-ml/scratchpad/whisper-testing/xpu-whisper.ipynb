{
 "cells": [
  {
   "cell_type": "code",
   "execution_count": null,
   "id": "7b27eeb4",
   "metadata": {},
   "outputs": [
    {
     "name": "stdout",
     "output_type": "stream",
     "text": [
      " Dancing in the masquerade, idle truth in plain sight jaded, pop, roll, click, shot, who will I be today or not? But such a tide as moving seems asleep, too full for sound and foam, when that which drew from out the boundless deep turns again home, twilight and evening bell, and after that?\n"
     ]
    }
   ],
   "source": [
    "import torch\n",
    "import whisper\n",
    "\n",
    "# Clear VRAM\n",
    "torch.xpu.memory.empty_cache()\n",
    "\n",
    "# Load a pre-trained model (e.g., \"base\", \"small\", \"medium\", \"large\")\n",
    "model = whisper.load_model(\"turbo\", device=\"xpu\") \n",
    "\n",
    "# Transcribe your audio file\n",
    "result = model.transcribe(\"test.wav\")\n",
    "\n",
    "print(result[\"text\"])\n",
    "\n",
    "# Clear VRAM\n",
    "del model\n",
    "del result\n",
    "torch.xpu.memory.empty_cache()"
   ]
  },
  {
   "cell_type": "code",
   "execution_count": null,
   "id": "e4e3fb7d",
   "metadata": {},
   "outputs": [
    {
     "name": "stderr",
     "output_type": "stream",
     "text": [
      "/usr/local/lib/python3.11/dist-packages/tqdm/auto.py:21: TqdmWarning: IProgress not found. Please update jupyter and ipywidgets. See https://ipywidgets.readthedocs.io/en/stable/user_install.html\n",
      "  from .autonotebook import tqdm as notebook_tqdm\n"
     ]
    },
    {
     "name": "stdout",
     "output_type": "stream",
     "text": [
      "Transcribed Text:\n",
      " Dancing in the masquerade, idle truth in plain sight jaded, pop, roll, click, shot, who will I be today or not? But such a tide as moving seems asleep, too full for sound and foam, when that which drew from out the boundless deep turns again home, twilight and evening bell, and after that?\n"
     ]
    },
    {
     "name": "stderr",
     "output_type": "stream",
     "text": [
      "A new version of the following files was downloaded from https://huggingface.co/microsoft/Phi-3-mini-4k-instruct:\n",
      "- configuration_phi3.py\n",
      ". Make sure to double-check they do not contain any added malicious code. To avoid downloading new versions of the code file, you can pin a revision.\n",
      "`torch_dtype` is deprecated! Use `dtype` instead!\n",
      "A new version of the following files was downloaded from https://huggingface.co/microsoft/Phi-3-mini-4k-instruct:\n",
      "- modeling_phi3.py\n",
      ". Make sure to double-check they do not contain any added malicious code. To avoid downloading new versions of the code file, you can pin a revision.\n",
      "`flash-attention` package not found, consider installing for better performance: No module named 'flash_attn'.\n",
      "Current `flash-attention` does not support `window_size`. Either upgrade or use `attn_implementation='eager'`.\n",
      "Fetching 2 files:   0%|                                                                     | 0/2 [00:00<?, ?it/s]"
     ]
    }
   ],
   "source": [
    "import torch\n",
    "import whisper\n",
    "from transformers import AutoModelForCausalLM, AutoTokenizer\n",
    "\n",
    "# Clear VRAM\n",
    "torch.xpu.memory.empty_cache()\n",
    "\n",
    "# Load Whisper model for transcription\n",
    "whisper_model = whisper.load_model(\"turbo\", device=\"xpu\")\n",
    "\n",
    "# Transcribe your audio file\n",
    "result = whisper_model.transcribe(\"test.wav\")\n",
    "transcribed_text = result[\"text\"]\n",
    "print(\"Transcribed Text:\")\n",
    "print(transcribed_text)\n",
    "\n",
    "# Load Phi-3-mini-4k-instruct\n",
    "model_name = \"microsoft/Phi-3-mini-4k-instruct\"\n",
    "tokenizer = AutoTokenizer.from_pretrained(model_name)\n",
    "model = AutoModelForCausalLM.from_pretrained(\n",
    "    model_name,\n",
    "    torch_dtype=torch.float16,  # Use FP16 for efficiency on XPU\n",
    "    device_map=\"auto\",         # Automatically map to XPU/GPU/CPU\n",
    "    trust_remote_code=True     # Required for Phi-3 models\n",
    ")\n",
    "\n",
    "# Prepare a prompt for summarization\n",
    "prompt = f\"Summarize the following output looking for patterns. This output was transcribed from recording cold war era numbers stations:\\n{transcribed_text}\"\n",
    "inputs = tokenizer(prompt, return_tensors=\"pt\", max_length=512, truncation=True).to(model.device)\n",
    "\n",
    "# Generate summary\n",
    "outputs = model.generate(\n",
    "    **inputs,\n",
    "    max_new_tokens=500,  # Adjust for longer/shorter summaries\n",
    "    do_sample=False,     # Deterministic output\n",
    "    num_beams=4,        # Beam search for better quality\n",
    "    no_repeat_ngram_size=2  # Prevent repetitive phrases\n",
    ")\n",
    "summary = tokenizer.decode(outputs[0], skip_special_tokens=True)\n",
    "\n",
    "print(\"\\nSummary/Description:\")\n",
    "print(summary)\n",
    "\n",
    "# Clear VRAM\n",
    "del model\n",
    "del result\n",
    "torch.xpu.memory.empty_cache()"
   ]
  },
  {
   "cell_type": "code",
   "execution_count": null,
   "id": "64cf32a1",
   "metadata": {},
   "outputs": [],
   "source": []
  }
 ],
 "metadata": {
  "kernelspec": {
   "display_name": "Python 3 (ipykernel)",
   "language": "python",
   "name": "python3"
  },
  "language_info": {
   "codemirror_mode": {
    "name": "ipython",
    "version": 3
   },
   "file_extension": ".py",
   "mimetype": "text/x-python",
   "name": "python",
   "nbconvert_exporter": "python",
   "pygments_lexer": "ipython3",
   "version": "3.11.0rc1"
  }
 },
 "nbformat": 4,
 "nbformat_minor": 5
}
