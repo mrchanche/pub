{
 "cells": [
  {
   "cell_type": "markdown",
   "id": "22018ebb",
   "metadata": {},
   "source": [
    "# Chapter 3 Understanding and Preparing Data"
   ]
  },
  {
   "cell_type": "markdown",
   "id": "691ad5af",
   "metadata": {},
   "source": [
    "Most ML work is in gathering and preparing the data. The better/cleaner your data the better the results will be. "
   ]
  },
  {
   "cell_type": "markdown",
   "id": "c1d52403",
   "metadata": {},
   "source": [
    "### 3.1 Types of Data\n",
    "\n",
    "Numerican Data\n",
    "\n",
    "- Continuous\n",
    "    - Can take any value within a range (height, temp, income)\n",
    "- Discrete\n",
    "    - Only whole numbers, often counts of things"
   ]
  },
  {
   "cell_type": "code",
   "execution_count": 9,
   "id": "ce84b64f",
   "metadata": {},
   "outputs": [
    {
     "name": "stdout",
     "output_type": "stream",
     "text": [
      "height_cm    int64\n",
      "age          int64\n",
      "children     int64\n",
      "dtype: object\n"
     ]
    }
   ],
   "source": [
    "import pandas as pd\n",
    "\n",
    "df = pd.DataFrame({\n",
    "    \"height_cm\":[160,175,180,155],\n",
    "    \"age\":[25,32,40,29],\n",
    "    \"children\":[2,1,3,0]\n",
    "})\n",
    "\n",
    "print(df.dtypes)"
   ]
  },
  {
   "cell_type": "markdown",
   "id": "ad10e221",
   "metadata": {},
   "source": [
    "### Categorical Data\n",
    "\n",
    "- Nominal\n",
    "    - No intrinsic order (colors, city names)\n",
    "- Ordinal\n",
    "    - Natural order (Education level)\n",
    "\n",
    "### Page 52"
   ]
  },
  {
   "cell_type": "code",
   "execution_count": 4,
   "id": "f6a5b588",
   "metadata": {},
   "outputs": [
    {
     "name": "stdout",
     "output_type": "stream",
     "text": [
      "['New York' 'London' 'Tokyo']\n",
      "[\"Bachelor's\" \"Master's\" 'PhD' 'High School']\n"
     ]
    }
   ],
   "source": [
    "import pandas as pd\n",
    "\n",
    "df = pd.DataFrame({\n",
    "    \"city\":[\"New York\", \"London\", \"Tokyo\", \"London\"],\n",
    "    \"education\":[\"Bachelor's\", \"Master's\", \"PhD\", \"High School\"]\n",
    "})\n",
    "\n",
    "# Deduplicate\n",
    "print(df[\"city\"].unique())\n",
    "print(df[\"education\"].unique())"
   ]
  },
  {
   "cell_type": "markdown",
   "id": "6f6c8bd4",
   "metadata": {},
   "source": [
    "### Text Data\n",
    "\n",
    "Unstructured text data like reviews, tweet, emails, etc..."
   ]
  },
  {
   "cell_type": "code",
   "execution_count": 6,
   "id": "d18859de",
   "metadata": {},
   "outputs": [
    {
     "name": "stdout",
     "output_type": "stream",
     "text": [
      "                       review\n",
      "0  Amazing product! Loved it.\n",
      "1           Terrible service.\n",
      "2            Would buy again.\n",
      "3        Not worth the price.\n",
      "\n",
      "\n",
      "review    object\n",
      "dtype: object\n"
     ]
    }
   ],
   "source": [
    "df = pd.DataFrame({\n",
    "    \"review\":[\n",
    "        \"Amazing product! Loved it.\",\n",
    "        \"Terrible service.\",\n",
    "        \"Would buy again.\",\n",
    "        \"Not worth the price.\"\n",
    "    ]\n",
    "})\n",
    "\n",
    "print(df)\n",
    "print(\"\\n\")\n",
    "print(df.dtypes)"
   ]
  },
  {
   "cell_type": "markdown",
   "id": "24db081a",
   "metadata": {},
   "source": [
    "### Date and Time Data\n",
    "\n",
    "Temporal information"
   ]
  },
  {
   "cell_type": "code",
   "execution_count": 7,
   "id": "4af8e1f5",
   "metadata": {},
   "outputs": [
    {
     "name": "stdout",
     "output_type": "stream",
     "text": [
      "signup_date      datetime64[ns]\n",
      "duration_days             int64\n",
      "dtype: object\n"
     ]
    }
   ],
   "source": [
    "df = pd.DataFrame({\n",
    "    \"signup_date\": pd.to_datetime([\"2023-01-01\",\"2022-11-10\",\"2023-05-22\",\"2021-07-30\"]),\n",
    "    \"duration_days\":[14,35,7,60]\n",
    "})\n",
    "\n",
    "print(df.dtypes)"
   ]
  },
  {
   "cell_type": "markdown",
   "id": "6ad42488",
   "metadata": {},
   "source": [
    "### Boolean Data"
   ]
  },
  {
   "cell_type": "code",
   "execution_count": 8,
   "id": "22753c4c",
   "metadata": {},
   "outputs": [
    {
     "name": "stdout",
     "output_type": "stream",
     "text": [
      "2\n"
     ]
    }
   ],
   "source": [
    "df = pd.DataFrame({\n",
    "    \"subscribed\":[True, False, True, False]\n",
    "})\n",
    "\n",
    "print(df[\"subscribed\"].sum()) # Count how many are True/Subscribed"
   ]
  },
  {
   "cell_type": "markdown",
   "id": "6ba6f514",
   "metadata": {},
   "source": [
    "### Mixed and Structure Data\n",
    "\n",
    "- Always use `.dtypes` in pandas to check column types.\n",
    "- For ML, convert categories and Dates to numbers\n",
    "- Use visualizations to check for outliers and understand distributions\n",
    "\n",
    "Proper data type is the foundation, otherwise results maybe confusing or errneous."
   ]
  },
  {
   "cell_type": "markdown",
   "id": "cc11f186",
   "metadata": {},
   "source": [
    "### Importing and Loading Datasets\n",
    "\n",
    "CSV is the most common method to load data."
   ]
  },
  {
   "cell_type": "code",
   "execution_count": null,
   "id": "8e24b24e",
   "metadata": {},
   "outputs": [],
   "source": [
    "import pandas as pd\n",
    "\n",
    "df = pd.read_csv(\"sample_data.csv\")\n",
    "print(df.head()) # Just shows the first 5 rows as a sanity check\n",
    "\n",
    "# pandas assumes the first row contain column names"
   ]
  },
  {
   "cell_type": "markdown",
   "id": "403f4a97",
   "metadata": {},
   "source": [
    "If you file uses a specific delimiter you can specify with `sep='\\t'`\n",
    "\n",
    "`df = pd.read_csv(\"sample_data.csv\", sep=\"\\t\")`\n",
    "\n",
    "or \n",
    "\n",
    "`df = pd.read_csv(\"sample_data.csv\", sep=\",\")`\n",
    "\n",
    "etc...\n",
    "\n",
    "For missing headers use `header=None`\n",
    "\n",
    "`df = pd.read_csv(\"sample_data.csv\", header=None)`\n",
    "\n",
    "At this point you can assign column names after the fact:\n",
    "\n",
    "`df.columns = [\"col1\", \"col2\", \"col3\"]`"
   ]
  },
  {
   "cell_type": "code",
   "execution_count": null,
   "id": "7be25503",
   "metadata": {},
   "outputs": [],
   "source": [
    "import pandas as pd\n",
    "\n",
    "df = pd.read_csv(\"sample_data.csv\", sep=',', header=None)\n",
    "df.columns = [\"NewName\", \"NewAge\", \"NewScore\"]\n",
    "print(df.head())"
   ]
  },
  {
   "cell_type": "markdown",
   "id": "2a55f79c",
   "metadata": {},
   "source": [
    "### Loading Excel Files"
   ]
  },
  {
   "cell_type": "code",
   "execution_count": null,
   "id": "4596a584",
   "metadata": {},
   "outputs": [],
   "source": [
    "df = pd.read_excel(\"budget.xlsx\", sheet_name=\"2023\")\n",
    "print(df.head())\n",
    "\n",
    "# list all sheets in the xlsx\n",
    "sheeds = pd.ExcelFile(\"budget.xlsx\")\n",
    "print(sheets.sheed_names)"
   ]
  },
  {
   "cell_type": "markdown",
   "id": "e50797ce",
   "metadata": {},
   "source": [
    "### Loading Data from Databases"
   ]
  },
  {
   "cell_type": "code",
   "execution_count": null,
   "id": "bd43814f",
   "metadata": {},
   "outputs": [],
   "source": [
    "import sqlite3\n",
    "\n",
    "conn = sqlite3.connect(\"company.db\")\n",
    "df = pd.read_sql(\"SELECT * FROM employees\", conn)\n",
    "conn.close()\n",
    "print(df.head())"
   ]
  },
  {
   "cell_type": "markdown",
   "id": "b1b7ac40",
   "metadata": {},
   "source": [
    "### Loading Data from a Website"
   ]
  },
  {
   "cell_type": "code",
   "execution_count": null,
   "id": "679785fc",
   "metadata": {},
   "outputs": [],
   "source": [
    "url = \"https://www.something.com/files/iris.cvs\"\n",
    "\n",
    "df = pd.read_csv(url)\n",
    "print(df.head())"
   ]
  },
  {
   "cell_type": "markdown",
   "id": "94655182",
   "metadata": {},
   "source": [
    "### Loading Built-in Datasets from Scikit Learn"
   ]
  },
  {
   "cell_type": "code",
   "execution_count": null,
   "id": "9930f051",
   "metadata": {},
   "outputs": [
    {
     "name": "stdout",
     "output_type": "stream",
     "text": [
      "   sepal length (cm)  sepal width (cm)  petal length (cm)  petal width (cm)  target\n",
      "0                5.1               3.5                1.4               0.2       0\n",
      "1                4.9               3.0                1.4               0.2       0\n",
      "2                4.7               3.2                1.3               0.2       0\n",
      "3                4.6               3.1                1.5               0.2       0\n",
      "4                5.0               3.6                1.4               0.2       0\n",
      "(150, 5)\n",
      "<class 'pandas.core.frame.DataFrame'>\n",
      "RangeIndex: 150 entries, 0 to 149\n",
      "Data columns (total 5 columns):\n",
      " #   Column             Non-Null Count  Dtype  \n",
      "---  ------             --------------  -----  \n",
      " 0   sepal length (cm)  150 non-null    float64\n",
      " 1   sepal width (cm)   150 non-null    float64\n",
      " 2   petal length (cm)  150 non-null    float64\n",
      " 3   petal width (cm)   150 non-null    float64\n",
      " 4   target             150 non-null    int64  \n",
      "dtypes: float64(4), int64(1)\n",
      "memory usage: 6.0 KB\n",
      "None\n",
      "Index(['sepal length (cm)', 'sepal width (cm)', 'petal length (cm)',\n",
      "       'petal width (cm)', 'target'],\n",
      "      dtype='object')\n"
     ]
    }
   ],
   "source": [
    "from sklearn.datasets import load_iris\n",
    "\n",
    "iris = load_iris(as_frame=True)\n",
    "df = iris.frame\n",
    "print(df.head())\n",
    "\n",
    "# Check data after loading\n",
    "print(df.shape)\n",
    "print(df.info())\n",
    "print(df.columns)"
   ]
  },
  {
   "cell_type": "markdown",
   "id": "331d6ebf",
   "metadata": {},
   "source": [
    "Inspect your data and look for:\n",
    "\n",
    "- missing values\n",
    "- weird data types (num as str)\n",
    "- unexpected columns"
   ]
  },
  {
   "cell_type": "markdown",
   "id": "73865c49",
   "metadata": {},
   "source": [
    "### Dealing with large datasets\n",
    "\n",
    "- When working with massive datasets we can load in with chunks"
   ]
  },
  {
   "cell_type": "code",
   "execution_count": null,
   "id": "0a9f4ca6",
   "metadata": {},
   "outputs": [],
   "source": [
    "chunk_iter = pd.read_csv(\"big_data.csv\", chunksize=10000)\n",
    "\n",
    "for chunk in chunk_iter:\n",
    "    print(chunk.shape)"
   ]
  },
  {
   "cell_type": "markdown",
   "id": "fb125608",
   "metadata": {},
   "source": [
    "- Keep raw data in a `data` folder\n",
    "- Use clear and consistent naming for files and columns\n",
    "- Always check data immediately after loading"
   ]
  },
  {
   "cell_type": "markdown",
   "id": "d64a1cfc",
   "metadata": {},
   "source": [
    "### Handling Missing Values\n",
    "\n",
    "Most ML algorithms cannot handle missing values, this will either error out for silently skip the row which will throw off the predictions."
   ]
  },
  {
   "cell_type": "markdown",
   "id": "10df556f",
   "metadata": {},
   "source": [
    "### Find missing data"
   ]
  },
  {
   "cell_type": "code",
   "execution_count": null,
   "id": "b0909328",
   "metadata": {},
   "outputs": [],
   "source": [
    "# step 1 after loading data is to check for missing values\n",
    "\n",
    "# always inspect your data\n",
    "\n",
    "import pandas as pd\n",
    "\n",
    "df = pd.read_cvs(\"customers.csv\")\n",
    "# grab the number of missing values per column\n",
    "print(df.isnull().sum())\n",
    "\n",
    "# Does each column have any missing values?\n",
    "print(df.isnull().any())\n",
    "\n",
    "# Check for gaps quickly, this will return non-null counts per column\n",
    "print(df.info())"
   ]
  },
  {
   "cell_type": "markdown",
   "id": "2633d04c",
   "metadata": {},
   "source": [
    "### Handling Missing Values"
   ]
  },
  {
   "cell_type": "code",
   "execution_count": null,
   "id": "d32aef13",
   "metadata": {},
   "outputs": [],
   "source": [
    "# 1 - Drop the missing values\n",
    "\n",
    "# Drop rows with missing values\n",
    "df_clean = df.dropna()\n",
    "\n",
    "# Drop columns with missing values\n",
    "df.clean_cols = df.dropna(axis=1)"
   ]
  },
  {
   "cell_type": "markdown",
   "id": "32d16cab",
   "metadata": {},
   "source": [
    "### Fill missing values (imputation)"
   ]
  },
  {
   "cell_type": "code",
   "execution_count": null,
   "id": "2e149132",
   "metadata": {},
   "outputs": [],
   "source": [
    "# Fill missing data in with 0's\n",
    "\n",
    "df[\"age\"] = df[\"age\"].fillna(0)\n",
    "\n",
    "# Fill with the mean or median (Great for numerical columns)\n",
    "df[\"income\"] = df[\"income\"].fillna(df[\"income\"].mean())\n",
    "\n",
    "# Fill with the most common value for categories\n",
    "df[\"city\"] = df[\"city\"].fillna(df[\"city\"].mode()[0])\n",
    "\n",
    "# For time stamped data use the value before or after\n",
    "# Forward Fill\n",
    "df[\"temperature\"] = df[\"temperature\"].fillna(method=\"ffill\")\n",
    "\n",
    "# Backward fill\n",
    "df[\"temperature\"] = df[\"temperature\"].fillna(method=\"bfill\")"
   ]
  },
  {
   "cell_type": "markdown",
   "id": "e92585ba",
   "metadata": {},
   "source": [
    "### Flag Missing Data"
   ]
  },
  {
   "cell_type": "code",
   "execution_count": null,
   "id": "12b92df5",
   "metadata": {},
   "outputs": [],
   "source": [
    "# Sometimes knowing the value is missing tells you something\n",
    "\n",
    "df[\"age_missing\"] = df[\"age\"].isnull()\n",
    "df[\"age\"] = df[\"age\"].fillna(df[\"age\"].mean())"
   ]
  },
  {
   "cell_type": "markdown",
   "id": "c1c148b8",
   "metadata": {},
   "source": [
    "### Handling missing values for Machine Learning\n",
    "\n",
    "Many models do not accept missing values, always fill or remove them.\n",
    "\n",
    "### Top of page 62\n",
    "\n",
    "Scikit learn can use transformers to advanced imputation.\n",
    "\n"
   ]
  },
  {
   "cell_type": "code",
   "execution_count": null,
   "id": "0d77984b",
   "metadata": {},
   "outputs": [],
   "source": [
    "from sklearn.impute import SimpleImputer\n",
    "\n",
    "imputer = SimpleImputer(strategy=\"mean\") # \"median\" or \"most_frequent\" or \"constant\" also work\n",
    "df[[\"income\"]] = imputer.fit_transform(df[[\"income\"]])"
   ]
  },
  {
   "cell_type": "markdown",
   "id": "f6129b6c",
   "metadata": {},
   "source": [
    "### Visualizing Missing Data"
   ]
  },
  {
   "cell_type": "code",
   "execution_count": null,
   "id": "bdd2ff91",
   "metadata": {},
   "outputs": [
    {
     "data": {
      "text/plain": [
       "<Axes: >"
      ]
     },
     "execution_count": 10,
     "metadata": {},
     "output_type": "execute_result"
    },
    {
     "data": {
      "image/png": "[encoded data removed]",
      "text/plain": [
       "<Figure size 2500x1000 with 2 Axes>"
      ]
     },
     "metadata": {},
     "output_type": "display_data"
    }
   ],
   "source": [
    "# !pip install missingno\n",
    "import missingno as msno\n",
    "msno.matrix(df) # Visualize the missing data using the missingno package"
   ]
  },
  {
   "cell_type": "markdown",
   "id": "fb5f47a6",
   "metadata": {},
   "source": [
    "### Choose the right approach\n",
    "\n",
    "- small, random gaps\n",
    "    - Drop or fill with mean/median/mode\n",
    "- patterns or large gaps\n",
    "    - understand why values are missing, filling these in may introduce bias in the training\n",
    "- categories\n",
    "    - Fill with mode or \"Unknown\"\n",
    "- Time series\n",
    "    - Forward/Backward fill\n"
   ]
  },
  {
   "cell_type": "markdown",
   "id": "1a312ed1",
   "metadata": {},
   "source": [
    "### Data Cleaning Essentials"
   ]
  },
  {
   "cell_type": "markdown",
   "id": "ad77b4a5",
   "metadata": {},
   "source": [
    "### Removing duplicates"
   ]
  },
  {
   "cell_type": "code",
   "execution_count": null,
   "id": "a9b869bd",
   "metadata": {},
   "outputs": [],
   "source": [
    "import pandas as pd\n",
    "\n",
    "df = pd.read_csv(\"sales.csv\")\n",
    "print(\"Before:\", df.shape)\n",
    "df = df.drop_duplicates() # dedupe\n",
    "print(\"After:\", df.shape)"
   ]
  },
  {
   "cell_type": "markdown",
   "id": "f5a8100d",
   "metadata": {},
   "source": [
    "### Fixing Inconsistent Data"
   ]
  },
  {
   "cell_type": "code",
   "execution_count": null,
   "id": "529f9a65",
   "metadata": {},
   "outputs": [],
   "source": [
    "df[\"city\"] = df[\"city\"].str.strip().str.title()\n",
    "df[\"city\"] = df[\"city\"].replace({\n",
    "    \"Ny\": \"New York\",\n",
    "    \"N.Y.\": \"New York\"\n",
    "})"
   ]
  },
  {
   "cell_type": "markdown",
   "id": "d228dbee",
   "metadata": {},
   "source": [
    "### Handling Outliers"
   ]
  },
  {
   "cell_type": "code",
   "execution_count": null,
   "id": "24df78ff",
   "metadata": {},
   "outputs": [],
   "source": [
    "# Visualize First\n",
    "import matplotlib.pyplot as plt\n",
    "plt.host(df[\"amount\"], bins = 50)\n",
    "plt.show()\n",
    "\n",
    "# Remove or CLip\n",
    "df = df[df[\"amount\"] < 10\"000] # Remove extreme values\n",
    "df[\"amount\"] = df[\"amount\"].clip(upper = 5000) # Cap values"
   ]
  },
  {
   "cell_type": "markdown",
   "id": "c9369fe0",
   "metadata": {},
   "source": [
    "### Dealing with Inconsistent Data Types"
   ]
  },
  {
   "cell_type": "code",
   "execution_count": null,
   "id": "268c0439",
   "metadata": {},
   "outputs": [],
   "source": [
    "# Convert to numeric\n",
    "df[\"sales\"] = pd.to_numeric(df[\"sales\"], errors = \"coerce\")\n",
    "\n",
    "# Convert to category for efficiency\n",
    "df[\"product\"] = df[\"product\"].astype(\"category\")"
   ]
  },
  {
   "cell_type": "markdown",
   "id": "6d7c46f8",
   "metadata": {},
   "source": [
    "### Trimming Whitespace and Handling Case Sensitivity"
   ]
  },
  {
   "cell_type": "code",
   "execution_count": null,
   "id": "d66277d7",
   "metadata": {},
   "outputs": [],
   "source": [
    "df[\"customer\"] = df[\"customer\"].str.strip().str.title()"
   ]
  },
  {
   "cell_type": "markdown",
   "id": "44d2a4f0",
   "metadata": {},
   "source": [
    "### Filling in or Flagging Missing Values"
   ]
  },
  {
   "cell_type": "code",
   "execution_count": null,
   "id": "b7933f03",
   "metadata": {},
   "outputs": [],
   "source": [
    "# This can be used with inconsistent dtypes and trimming/clipping to keep track of what values were filled\n",
    "\n",
    "df[\"age_missing\"] = df[\"age\"].isnull()\n",
    "df[\"age\"] = df[\"age\"].fillna(df[\"age\"].mean())"
   ]
  },
  {
   "cell_type": "markdown",
   "id": "c3697449",
   "metadata": {},
   "source": [
    "### Removing Irrelevant Features\n",
    "\n",
    "Not every column is useful for models, ID's Notes etc...\n",
    "\n",
    "SIMPLER DATASETS = BETTER DATASETS"
   ]
  },
  {
   "cell_type": "code",
   "execution_count": null,
   "id": "c69a15c8",
   "metadata": {},
   "outputs": [],
   "source": [
    "df = df.drop(columns=[\"internal_notes\",\"id\"])"
   ]
  },
  {
   "cell_type": "markdown",
   "id": "40af2d3c",
   "metadata": {},
   "source": [
    "### Checking for Consistency and Logic\n",
    "\n",
    "Remove things that don't make any sense like a purchase date that is after the thing you purchased it for"
   ]
  },
  {
   "cell_type": "code",
   "execution_count": null,
   "id": "7cd3f820",
   "metadata": {},
   "outputs": [],
   "source": [
    "df = df[df[\"age\"] >= 0]\n",
    "df = df[df[\"purchase_date\"] >= df[\"signup_date\"]]"
   ]
  },
  {
   "cell_type": "markdown",
   "id": "8bfdd439",
   "metadata": {},
   "source": [
    "### File Checklist for Clean Data\n",
    "\n",
    "- no dupes\n",
    "- no obvious errors\n",
    "- consistent formatting for categories, numbers, dates\n",
    "- reasonable ranges (negative sales numbers, ages etc...)\n",
    "- irrelevant columns removed\n",
    "- Missing values handled or flagged\n",
    "\n",
    "Clean data is king"
   ]
  },
  {
   "cell_type": "code",
   "execution_count": null,
   "id": "cb2f2151",
   "metadata": {},
   "outputs": [],
   "source": [
    "import pandas as pd\n",
    "import missingno as msno\n",
    "\n",
    "\n",
    "df = pd.read_csv(\"data/dirty/dirty_cafe_sales.csv\")\n",
    "\n",
    "# Check for blanks\n",
    "msno.matrix(df)\n",
    "\n",
    "# Check Head\n",
    "print(\"\\n------------Head------------\\n\")\n",
    "print(df.head())\n",
    "\n",
    "# Check Shape\n",
    "print(\"\\n------------Shape------------\\n\")\n",
    "print(df.shape)\n",
    "\n",
    "# Get Info\n",
    "print(\"\\n------------Info------------\\n\")\n",
    "print(df.info())\n",
    "\n",
    "# Check Columns\n",
    "print(\"\\n------------Columns------------\\n\")\n",
    "print(df.columns)\n",
    "\n",
    "# Check Missing Values Per Column\n",
    "print(\"\\n------------Columns isnull sum------------\\n\")\n",
    "print(df.isnull().sum())\n",
    "\n",
    "# Check If Each Column Has Missing Values\n",
    "print(\"\\n------------Columns isnull any------------\\n\")\n",
    "print(df.isnull().any())\n",
    "\n",
    "# Backward Fill Dates\n",
    "print(\"\\n------------bfill Dates------------\\n\")\n",
    "df[\"Transaction Date\"] = df[\"Transaction Date\"].fillna(method=\"bfill\")\n",
    "\n",
    "# Get Info\n",
    "print(\"\\n------------Info------------\\n\")\n",
    "print(df.info())\n",
    "\n",
    "# Set missing Location, Payment Method, and Item to UNKNOWN\n",
    "print(\"\\n------------bfill Dates------------\\n\")\n",
    "df[\"Location\"] = df[\"Location\"].fillna(\"UNKNOWN\")\n",
    "df[\"Payment Method\"] = df[\"Payment Method\"].fillna(\"UNKNOWN\")\n",
    "df[\"Item\"] = df[\"Item\"].fillna(\"UNKNOWN\")\n",
    "\n",
    "# Get Info\n",
    "print(\"\\n------------Info------------\\n\")\n",
    "print(df.info())\n",
    "\n",
    "# Fix Quantity, Price Per Unit, Total Spent or if Numerical Columns have NaN\n",
    "df[\"Quantity\"] = df[\"Quantity\"].fillna(df[\"Quantity\"].mode()[0])\n",
    "#df[\"Price Per Unit\"] = df[\"Price Per Unit\"].fillna(df[\"Price Per Unit\"].mean())\n",
    "#df[\"Total Spent\"] = df[\"Total Spent\"].fillna(df[\"Total Spent\"].mean())\n",
    "df = df.dropna(subset=['Quantity'])\n",
    "df = df.dropna(subset=['Price Per Unit'])\n",
    "df = df.dropna(subset=['Total Spent'])\n",
    "df = df.dropna()\n",
    "\n",
    "# Check Head\n",
    "print(\"\\n------------Head------------\\n\")\n",
    "print(df.head())\n",
    "\n",
    "# Check Shape\n",
    "print(\"\\n------------Shape------------\\n\")\n",
    "print(df.shape)\n",
    "\n",
    "# Get Info\n",
    "print(\"\\n------------Info------------\\n\")\n",
    "print(df.info())\n",
    "\n",
    "# Check for blanks\n",
    "msno.matrix(df)\n"
   ]
  },
  {
   "cell_type": "markdown",
   "id": "0c969338",
   "metadata": {},
   "source": [
    "### Basic Feature Engineering\n",
    "\n",
    "**Feature Engineering** = Transform Raw Data into Meaningful Inputs\n",
    "\n",
    "Feature engineering is more impactful than the model itself.\n",
    "\n",
    "### What is feature engineering?\n",
    "\n",
    "Creating new variables (features) or modifying existing ones to make your data more useful."
   ]
  },
  {
   "cell_type": "markdown",
   "id": "fd0f1169",
   "metadata": {},
   "source": [
    "### Combine or Transform Columns, Creating new features from existing data"
   ]
  },
  {
   "cell_type": "code",
   "execution_count": null,
   "id": "55166d2f",
   "metadata": {},
   "outputs": [],
   "source": [
    "df[\"full_name\"] = df[\"first_name\"] + \" \" + df[\"last_name\"]\n",
    "\n",
    "# Or create a BMI column from height and weight\n",
    "\n",
    "df[\"bmi\"] = df[\"weight_kg\"] / (df[\"height_cm\"] / 100) ** 2"
   ]
  },
  {
   "cell_type": "markdown",
   "id": "9857e8bd",
   "metadata": {},
   "source": [
    "### Extract Parts of a Date"
   ]
  },
  {
   "cell_type": "code",
   "execution_count": null,
   "id": "fefde3cb",
   "metadata": {},
   "outputs": [],
   "source": [
    "# extract patterns from dates into their own features(columns)\n",
    "\n",
    "df[\"signup_date\"] = pd.to_datetime(df[\"signup_date\"]) \n",
    "df[\"signup_year\"] = df[\"signup_date\"].dt.year \n",
    "df[\"signup_month\"] = df[\"signup_date\"].dt.month \n",
    "df[\"signup_dayofweek\"] = df[\"signup_date\"].dt.dayofweek"
   ]
  },
  {
   "cell_type": "markdown",
   "id": "4202f682",
   "metadata": {},
   "source": [
    "### Binning Continuous Variables\n",
    "\n",
    "Convert a continuous feature like age or income into bins or categories can help simplify analysis.\n",
    "\n",
    "Useful for uncoivering non-linear effects or reducing the impact of outliers"
   ]
  },
  {
   "cell_type": "code",
   "execution_count": null,
   "id": "5d45408d",
   "metadata": {},
   "outputs": [],
   "source": [
    "df[\"age_group\"] = pd.cut(df]\"age\"], bins = [0, 18, 35, 50, 100], labels = [\"Child\", \"Young Adult\", \"Adult\", \"Senior\"])"
   ]
  },
  {
   "cell_type": "markdown",
   "id": "c13dfde4",
   "metadata": {},
   "source": [
    "### Encoding Categorical Variables\n",
    "\n",
    "Machine learning needs numbers not words, convert categories into numerical codes:\n",
    "\n",
    "### One-Hot Encoding\n",
    "\n",
    "Creates a new column for each category values for non-ordinal( no inherent order to it) date.\n",
    "\n",
    "```python\n",
    "df = pf.get_dummies(df, columns=[\"city\"])\n",
    "```\n",
    "\n",
    "### Label Encoding\n",
    "\n",
    "Assign a category a number\n",
    "\n",
    "You do need to be careful as numbers can introduce artificial relationship between features\n",
    "\n",
    "```python\n",
    "df[\"education_level\"] = df[\"education\"].map({\"High School\": 0, \"Bachelor\": 1, \"Master\": 2, \"PhD\": 3})\n",
    "```\n",
    "\n",
    "### Creating Interaction Features\n",
    "\n",
    "Combining 2 features can be more beneficial then two stand alone features, like age and income\n",
    "\n",
    "```python\n",
    "df[\"age_income\"] = df[\"age\"] * df[\"income\"]\n",
    "```\n",
    "\n",
    "### Feature Scaling\n",
    "\n",
    "Put features on a common scale, this can help many algorithms\n",
    "\n",
    "```python\n",
    "from sklearn.preprocessing import StandardScaler\n",
    "\n",
    "scaler = StandardScaler()\n",
    "df[[\"income_scaled\"]] = scaler.fit_transform(df[[\"income\"]])\n",
    "```\n",
    "\n",
    "### Practical Example\n",
    "\n",
    "### Dataset\n",
    "\n",
    "```python\n",
    "data = {\n",
    "    \"age\": [25, 37, 29, 52],\n",
    "    \"income\": [50000, 64000, 57000, 83000],\n",
    "    \"city\": [\"New York\", \"London\", \"London\", \"New York\"]\n",
    "}\n",
    "\n",
    "df = pd.DataFrame(data)\n",
    "```\n",
    "\n",
    "### Now lets engineer features\n",
    "\n",
    "```python\n",
    "# Binning age\n",
    "df[\"age_group\"] = pd.cut(df[\"age\"], bins=[0, 30, 50, 100], labels=[\"Young\", \"Middle\", \"Senior\"])\n",
    "\n",
    "# Encoding city with one-hot encoding\n",
    "df = pd.get_dummies(df, columns=[\"city\"]) print(df)\n",
    "```\n",
    "\n",
    "\n",
    "\n",
    "\n"
   ]
  },
  {
   "cell_type": "markdown",
   "id": "bd130cae",
   "metadata": {},
   "source": [
    "### Why Feature Engineering Matters\n",
    "\n",
    "- improves model performance\n",
    "- Add interpretability\n",
    "    - human friendly\n",
    "- ecodes domain knowledge\n",
    "    - bake into the data what is important\n",
    "\n",
    "### Key takeaways\n",
    "\n",
    "- feature engineering turns raw data in meaningful model ready features\n",
    "- Combine columns, extract info from dates, binning, encoding categories, scaling\n",
    "- Thoughtful features matter more than algorithms\n",
    "- Start simple, then build features to help you see more data\n",
    "\n"
   ]
  }
 ],
 "metadata": {
  "kernelspec": {
   "display_name": "Python 3 (ipykernel)",
   "language": "python",
   "name": "python3"
  },
  "language_info": {
   "codemirror_mode": {
    "name": "ipython",
    "version": 3
   },
   "file_extension": ".py",
   "mimetype": "text/x-python",
   "name": "python",
   "nbconvert_exporter": "python",
   "pygments_lexer": "ipython3",
   "version": "3.12.11"
  }
 },
 "nbformat": 4,
 "nbformat_minor": 5
}
