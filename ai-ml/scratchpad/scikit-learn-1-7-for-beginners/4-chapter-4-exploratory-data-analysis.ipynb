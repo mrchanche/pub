{
 "cells": [
  {
   "cell_type": "markdown",
   "id": "639f9af5",
   "metadata": {},
   "source": [
    "# Chapter 4 - Exploratory Data Analysis (EDA)\n",
    "\n",
    "Detective work for data.\n",
    "\n",
    "- What is normal\n",
    "- What is surprising\n",
    "- What will break things\n",
    "\n",
    "### Descriptive Statistics\n",
    "\n",
    "This is the first lens from which you should view your data\n",
    "\n",
    "- Snapshot of trends\n",
    "- Mean: tells you the average value\n",
    "- Median: middle value, especially useful if your data has outliers\n",
    "- Mode: most frequent value, good for categorical data\n",
    "- Standard deviation and Variance: how spread out the values are\n",
    "- Min/Max: this gives you the range\n",
    "- Percentiles/Quartiles: Where most values lie and help flag outliers\n",
    "\n",
    "### Calculating des"
   ]
  },
  {
   "cell_type": "markdown",
   "id": "f6d06ea7",
   "metadata": {},
   "source": []
  }
 ],
 "metadata": {
  "kernelspec": {
   "display_name": "Python 3 (ipykernel)",
   "language": "python",
   "name": "python3"
  }
 },
 "nbformat": 4,
 "nbformat_minor": 5
}
