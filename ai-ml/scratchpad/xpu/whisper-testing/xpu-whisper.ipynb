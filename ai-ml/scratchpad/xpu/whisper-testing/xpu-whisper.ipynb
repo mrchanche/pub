{
 "cells": [
  {
   "cell_type": "code",
   "execution_count": null,
   "id": "7b27eeb4",
   "metadata": {},
   "outputs": [
    {
     "name": "stdout",
     "output_type": "stream",
     "text": [
      " Dancing in the masquerade, idle truth in plain sight jaded, pop, roll, click, shot, who will I be today or not? But such a tide as moving seems asleep, too full for sound and foam, when that which drew from out the boundless deep turns again home, twilight and evening bell, and after that?\n"
     ]
    }
   ],
   "source": [
    "import torch\n",
    "import whisper\n",
    "\n",
    "# Func to free up XPU VRAM from allocator\n",
    "def clearvram():\n",
    "    torch.xpu.memory.empty_cache()\n",
    "\n",
    "# Clear VRAM\n",
    "clearvram()\n",
    "\n",
    "# Load a pre-trained model (e.g., \"base\", \"small\", \"medium\", \"large\")\n",
    "model = whisper.load_model(\"turbo\", device=\"xpu\") \n",
    "\n",
    "# Transcribe your audio file\n",
    "result = model.transcribe(\"test.wav\")\n",
    "\n",
    "print(result[\"text\"])\n",
    "\n",
    "# Clear VRAM\n",
    "clearvram()"
   ]
  },
  {
   "cell_type": "code",
   "execution_count": null,
   "id": "2b1aba82",
   "metadata": {},
   "outputs": [],
   "source": []
  }
 ],
 "metadata": {
  "kernelspec": {
   "display_name": "Python 3 (ipykernel)",
   "language": "python",
   "name": "python3"
  },
  "language_info": {
   "codemirror_mode": {
    "name": "ipython",
    "version": 3
   },
   "file_extension": ".py",
   "mimetype": "text/x-python",
   "name": "python",
   "nbconvert_exporter": "python",
   "pygments_lexer": "ipython3",
   "version": "3.11.0rc1"
  }
 },
 "nbformat": 4,
 "nbformat_minor": 5
}
